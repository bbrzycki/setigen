{
 "cells": [
  {
   "cell_type": "code",
   "execution_count": 1,
   "metadata": {},
   "outputs": [
    {
     "name": "stderr",
     "output_type": "stream",
     "text": [
      "bshuf filter already loaded, skip it.\n",
      "lz4 filter already loaded, skip it.\n",
      "zfp filter already loaded, skip it.\n"
     ]
    }
   ],
   "source": [
    "%load_ext autoreload\n",
    "%autoreload 2\n",
    "\n",
    "%matplotlib inline\n",
    "import matplotlib.pyplot as plt\n",
    "\n",
    "import numpy as np\n",
    "\n",
    "from astropy import units as u\n",
    "import blimpy as bl\n",
    "\n",
    "import setigen as stg"
   ]
  },
  {
   "cell_type": "code",
   "execution_count": 2,
   "metadata": {},
   "outputs": [],
   "source": [
    "# Sometimes it can be necessary to re-run this command for plots to show automatically\n",
    "%matplotlib inline"
   ]
  },
  {
   "cell_type": "code",
   "execution_count": 26,
   "metadata": {},
   "outputs": [
    {
     "name": "stdout",
     "output_type": "stream",
     "text": [
      "827392\n"
     ]
    },
    {
     "data": {
      "image/png": "[encoded data removed]",
      "text/plain": [
       "<Figure size 432x288 with 1 Axes>"
      ]
     },
     "metadata": {
      "needs_background": "light"
     },
     "output_type": "display_data"
    },
    {
     "name": "stdout",
     "output_type": "stream",
     "text": [
      "0.9999999999999999 0.0009790690638448315\n",
      "(25, 8192)\n"
     ]
    },
    {
     "data": {
      "image/png": "[encoded data removed]",
      "text/plain": [
       "<Figure size 432x288 with 1 Axes>"
      ]
     },
     "metadata": {
      "needs_background": "light"
     },
     "output_type": "display_data"
    },
    {
     "data": {
      "image/png": "[encoded data removed]",
      "text/plain": [
       "<Figure size 432x288 with 1 Axes>"
      ]
     },
     "metadata": {
      "needs_background": "light"
     },
     "output_type": "display_data"
    },
    {
     "data": {
      "image/png": "[encoded data removed]",
      "text/plain": [
       "<Figure size 432x288 with 1 Axes>"
      ]
     },
     "metadata": {
      "needs_background": "light"
     },
     "output_type": "display_data"
    },
    {
     "data": {
      "image/png": "[encoded data removed]",
      "text/plain": [
       "<Figure size 432x288 with 1 Axes>"
      ]
     },
     "metadata": {
      "needs_background": "light"
     },
     "output_type": "display_data"
    },
    {
     "name": "stdout",
     "output_type": "stream",
     "text": [
      "204800.19850356082\n",
      "413696.0\n"
     ]
    },
    {
     "data": {
      "text/plain": [
       "(1024.0009925178053, 92676.24298583841)"
      ]
     },
     "execution_count": 26,
     "metadata": {},
     "output_type": "execute_result"
    }
   ],
   "source": [
    "num_taps = 8\n",
    "num_branches = 1024\n",
    "num_windows = 100\n",
    "num_samples = num_taps * num_branches * (num_windows + 1)\n",
    "\n",
    "fftlength = 32\n",
    "int_factor = 1\n",
    "print(num_samples)\n",
    "\n",
    "sample_rate = 1\n",
    "\n",
    "dt = 1 / sample_rate\n",
    "t = np.linspace(0, dt * num_samples, num_samples, endpoint=False)\n",
    "# f_start = sample_rate / 4\n",
    "y = np.cos(2*np.pi*(sample_rate/4)*t)\n",
    "# y = np.random.normal(0, 1, num_samples)\n",
    "plt.plot(y)\n",
    "plt.show()\n",
    "\n",
    "filterbank = stg.voltage.PolyphaseFilterbank(num_taps=8, \n",
    "                                             num_branches=1024)\n",
    "\n",
    "Ypfb = filterbank.channelize(y)\n",
    "\n",
    "wf_data = stg.voltage.get_pfb_waterfall(Ypfb, fftlength=fftlength, int_factor=int_factor)\n",
    "print(wf_data.shape)\n",
    "\n",
    "plt.imshow(wf_data, aspect='auto')\n",
    "plt.show()\n",
    "\n",
    "spec = np.mean(wf_data, axis=0)\n",
    "plt.plot(spec)\n",
    "plt.show()\n",
    "\n",
    "plt.hist(wf_data.flatten(), bins=100)\n",
    "plt.show()\n",
    "\n",
    "coarse_spec = np.mean(np.abs(Ypfb)**2/num_branches, axis=0)\n",
    "plt.plot(coarse_spec)\n",
    "plt.show()\n",
    "\n",
    "print(np.sum(np.abs(Ypfb)**2/num_branches))\n",
    "\n",
    "print(np.sum(y**2))\n",
    "\n",
    "np.mean(wf_data), np.std(wf_data)"
   ]
  },
  {
   "cell_type": "code",
   "execution_count": 5,
   "metadata": {},
   "outputs": [
    {
     "data": {
      "text/plain": [
       "8191.999999999999"
      ]
     },
     "execution_count": 5,
     "metadata": {},
     "output_type": "execute_result"
    }
   ],
   "source": [
    "A = filterbank.window\n",
    "np.sum(A)"
   ]
  },
  {
   "cell_type": "code",
   "execution_count": 7,
   "metadata": {},
   "outputs": [
    {
     "data": {
      "text/plain": [
       "8.02053377101686"
      ]
     },
     "execution_count": 7,
     "metadata": {},
     "output_type": "execute_result"
    }
   ],
   "source": [
    "np.max(A)"
   ]
  },
  {
   "cell_type": "code",
   "execution_count": null,
   "metadata": {},
   "outputs": [],
   "source": []
  }
 ],
 "metadata": {
  "kernelspec": {
   "display_name": "Python (bl_tf)",
   "language": "python",
   "name": "ml"
  },
  "language_info": {
   "codemirror_mode": {
    "name": "ipython",
    "version": 3
   },
   "file_extension": ".py",
   "mimetype": "text/x-python",
   "name": "python",
   "nbconvert_exporter": "python",
   "pygments_lexer": "ipython3",
   "version": "3.8.3"
  }
 },
 "nbformat": 4,
 "nbformat_minor": 4
}
